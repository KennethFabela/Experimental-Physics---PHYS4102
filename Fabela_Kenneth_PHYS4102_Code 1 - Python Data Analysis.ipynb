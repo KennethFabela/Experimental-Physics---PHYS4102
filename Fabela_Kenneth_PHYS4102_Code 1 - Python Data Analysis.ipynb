{
 "cells": [
  {
   "cell_type": "markdown",
   "id": "f38e3a56",
   "metadata": {},
   "source": [
    "#\n",
    "### Kenneth Fabela\n",
    "### Dr. To\n",
    "### PHYS 4102 - 001\n",
    "### 07 February 2024\n",
    "# <center> Code 1</center>\n",
    "# 1)"
   ]
  },
  {
   "cell_type": "code",
   "execution_count": 1,
   "id": "cdf4945a",
   "metadata": {
    "scrolled": false
   },
   "outputs": [
    {
     "name": "stdout",
     "output_type": "stream",
     "text": [
      "Hello Kenneth Fabela!\n"
     ]
    }
   ],
   "source": [
    "print(\"Hello Kenneth Fabela!\")"
   ]
  },
  {
   "cell_type": "markdown",
   "id": "90da93e6",
   "metadata": {},
   "source": [
    "# 2) Circular Orbits:\n",
    "\n",
    "#### a)\n",
    "Starting with Newton's Gravitational Law, we will derive the equation for the altitude, $h$, of an object orbiting Earth and make sure it obeys this equation:\n",
    "\n",
    "<center>$h=(\\frac{GMT^2}{4\\pi^2})^\\frac{1}{3} - R$</center>\n",
    "\n",
    "where, $G = 6.67\\times 10^{-11} \\frac{m^3}{kg\\space s^2} $, $M = 5.97\\times 10^{24} kg$, and $R = 6371 km$\n",
    "\n",
    "$M$ is the mass of the earth and $R$ is the radius of the earth, and $T$ is the period of the orbit of the object orbiting earth in seconds\n",
    "\n",
    "#\n",
    "\n",
    "#### Let's begin\n",
    "\n",
    "Here is Newton's Law of Gravitation:\n",
    "\n",
    "$F_g = \\frac{GMm}{r^2}$\n",
    "\n",
    "According to Newton's second law, the following equation expresses centripital force:\n",
    "\n",
    "$F_c = \\frac{mv^2}{r} = m\\omega^2r$ where,\n",
    "$\\omega = \\frac{v}{r}$\n",
    "\n",
    "Now we solve for $r$ by setting Newton's Law of Gravitation and $F_c$ equal to each other:\n",
    "\n",
    "$m\\omega^2r = \\frac{GMm}{r^2}$\n",
    "\n",
    "\n",
    "Canceling out the $m$ on both sides:\n",
    "\n",
    "$\\omega^2r = \\frac{GM}{r^2}$\n",
    "\n",
    "Dividing both sides by $\\omega$ while simultaneously multiplying both sides by $r^2$ we have:\n",
    "\n",
    "$r^3 = (\\frac{GM}{\\omega^2})$\n",
    "\n",
    "Taking the cubed root of both sides:\n",
    "\n",
    "$r = (\\frac{GM}{\\omega^2})^\\frac{1}{3}$\n",
    "\n",
    "Substituting, $\\omega = \\frac{2\\pi}{T}$:\n",
    "\n",
    "$r = (\\frac{GM}{(\\frac{2\\pi}{T})^2})^\\frac{1}{3}$\n",
    "\n",
    "Taking the denominator to the 2nd power:\n",
    "\n",
    "$r = (\\frac{GM}{(\\frac{4\\pi^2}{T^2})})^\\frac{1}{3}$\n",
    "\n",
    "Simplifying:\n",
    "\n",
    "$r = (\\frac{GMT^2}{{4\\pi^2}})^\\frac{1}{3}$\n",
    "\n",
    "Substituting $r = R + h$:\n",
    "\n",
    "$R + h = (\\frac{GMT^2}{{4\\pi^2}})^\\frac{1}{3}$\n",
    "\n",
    "Subtracting both sides by $R$:\n",
    "\n",
    "$h = (\\frac{GMT^2}{{4\\pi^2}})^\\frac{1}{3} - R$\n",
    "\n",
    "Which concludes the derivation of the altitude, $h$, of an object orbiting Earth."
   ]
  },
  {
   "cell_type": "markdown",
   "id": "1d124dee",
   "metadata": {},
   "source": [
    "#### b)"
   ]
  },
  {
   "cell_type": "code",
   "execution_count": 2,
   "id": "d7cec6c1",
   "metadata": {
    "scrolled": false
   },
   "outputs": [
    {
     "name": "stdout",
     "output_type": "stream",
     "text": [
      "Enter a value of T in minutes to obtain the height of an object orbiting the earth 92.68\n",
      "410696.1325276494 m\n",
      "410.6961325276494 km\n"
     ]
    }
   ],
   "source": [
    "# Program that prompts the user to enter a value of T in minutes to obtain the height of an object \n",
    "# orbiting the earth\n",
    "\n",
    "import numpy as np\n",
    "\n",
    "G = 6.67e-11 # Newton's gravitational constant in units of m^3/(kg * s^2)\n",
    "M = 5.97e24  # Mass of the earth in kg\n",
    "R = 6371e3   # Radius of the earth in m\n",
    "\n",
    "T = float(input(\"Enter a value of T in minutes to obtain the height of an object orbiting the earth \")) * 60\n",
    "\n",
    "h = ((G*M*T**2)/(4*np.pi**2))**(1/3) - R\n",
    "print(h, \"m\")\n",
    "\n",
    "kilometers = h * 0.001\n",
    "print(kilometers, \"km\")"
   ]
  },
  {
   "cell_type": "markdown",
   "id": "34cef985",
   "metadata": {},
   "source": [
    "#### c)"
   ]
  },
  {
   "cell_type": "code",
   "execution_count": 3,
   "id": "e909242e",
   "metadata": {
    "scrolled": false
   },
   "outputs": [
    {
     "name": "stdout",
     "output_type": "stream",
     "text": [
      "Write the period of the satellite's orbit in seconds: 86160\n",
      "Altitude in meters: 35777675.9m\n",
      "Altitude in kilometers: 35777.7km\n"
     ]
    }
   ],
   "source": [
    "# Re-coded calculation of part b) so it makes the calculation using a user defined function instead.\n",
    "# Then the altitude of Geosyncronous Orbit is calculated.\n",
    "\n",
    "import numpy as np\n",
    "\n",
    "def altitude_in_meters(seconds):\n",
    "   \n",
    "    gravitational_constant = 6.67e-11\n",
    "    mass_of_earth = 5.97e24\n",
    "    radius_of_earth = 6371e3\n",
    "    time = float(seconds)\n",
    "    \n",
    "    \n",
    "    height_above_earth = (((gravitational_constant * mass_of_earth * time**2) / (4 * np.pi**2))**(1/3) - radius_of_earth)\n",
    "    \n",
    "    # Converts to kilometers\n",
    "    height_in_kilometers = height_above_earth / 1000\n",
    "    \n",
    "    # Rounds and formats altitude in meters\n",
    "    rounded_altitude_meters = round(height_above_earth, 1)\n",
    "    altitude_with_units_meters = str(rounded_altitude_meters) + \"m\"\n",
    "    \n",
    "    # Rounds and formats altitude in kilometers\n",
    "    rounded_altitude_kilometers = round(height_in_kilometers, 1)\n",
    "    altitude_with_units_kilometers = str(rounded_altitude_kilometers) + \"km\"\n",
    "    \n",
    "    return altitude_with_units_meters, altitude_with_units_kilometers\n",
    "\n",
    "altitude_meters, altitude_kilometers = altitude_in_meters(input(\"Write the period of the satellite's orbit in seconds: \"))\n",
    "print(\"Altitude in meters:\", altitude_meters)\n",
    "print(\"Altitude in kilometers:\", altitude_kilometers)"
   ]
  },
  {
   "cell_type": "markdown",
   "id": "440cca51",
   "metadata": {},
   "source": [
    "An object in geosynchronous orbit has a period of approximately 23 hours and 56 minutes, which is 86160 seconds. Thus, an object in geosynchronous orbit must orbit the earth at an altitude of approximately 35777.7 km.\n",
    "\n",
    "#### d)"
   ]
  },
  {
   "cell_type": "code",
   "execution_count": 4,
   "id": "621630ec",
   "metadata": {
    "scrolled": false
   },
   "outputs": [
    {
     "name": "stdout",
     "output_type": "stream",
     "text": [
      "For T = 90 minutes:\n",
      "Altitude in meters: 279321.6m\n",
      "Altitude in kilometers: 279.3km\n",
      "\n",
      "For T = 89 minutes:\n",
      "Altitude in meters: 229968.3m\n",
      "Altitude in kilometers: 230.0km\n",
      "\n",
      "For T = 88 minutes:\n",
      "Altitude in meters: 180429.8m\n",
      "Altitude in kilometers: 180.4km\n",
      "\n",
      "For T = 87 minutes:\n",
      "Altitude in meters: 130703.3m\n",
      "Altitude in kilometers: 130.7km\n",
      "\n",
      "For T = 86 minutes:\n",
      "Altitude in meters: 80785.9m\n",
      "Altitude in kilometers: 80.8km\n",
      "\n",
      "For T = 85 minutes:\n",
      "Altitude in meters: 30674.6m\n",
      "Altitude in kilometers: 30.7km\n",
      "\n",
      "For T = 84 minutes:\n",
      "Altitude in meters: -19633.6m\n",
      "Altitude in kilometers: -19.6km\n",
      "\n",
      "For T = 83 minutes:\n",
      "Altitude in meters: -70141.8m\n",
      "Altitude in kilometers: -70.1km\n",
      "\n",
      "For T = 82 minutes:\n",
      "Altitude in meters: -120853.3m\n",
      "Altitude in kilometers: -120.9km\n",
      "\n",
      "For T = 81 minutes:\n",
      "Altitude in meters: -171771.3m\n",
      "Altitude in kilometers: -171.8km\n",
      "\n",
      "For T = 80 minutes:\n",
      "Altitude in meters: -222899.4m\n",
      "Altitude in kilometers: -222.9km\n",
      "\n"
     ]
    }
   ],
   "source": [
    "# Loop which repetitively calculates h from T = 90 minutes to T = 80 minutes, iterating in 1 minute intervals.\n",
    "\n",
    "def altitude_in_meters(seconds):\n",
    "    gravitational_constant = 6.67e-11\n",
    "    mass_of_earth = 5.97e24\n",
    "    radius_of_earth = 6371e3\n",
    "    time = float(seconds)\n",
    "    \n",
    "    height_above_earth = (((gravitational_constant * mass_of_earth * time**2) / (4 * np.pi**2))**(1/3) - radius_of_earth)\n",
    "    \n",
    "    # Convert to kilometers\n",
    "    height_in_kilometers = height_above_earth / 1000\n",
    "    \n",
    "    # Round and format altitude in meters\n",
    "    rounded_altitude_meters = round(height_above_earth, 1)\n",
    "    altitude_with_units_meters = str(rounded_altitude_meters) + \"m\"\n",
    "    \n",
    "    # Round and format altitude in kilometers\n",
    "    rounded_altitude_kilometers = round(height_in_kilometers, 1)\n",
    "    altitude_with_units_kilometers = str(rounded_altitude_kilometers) + \"km\"\n",
    "    \n",
    "    return altitude_with_units_meters, altitude_with_units_kilometers\n",
    "\n",
    "# Calculate altitude for satellite orbits ranging from 90 minutes to 80 minutes, iterating in 1-minute intervals\n",
    "time_in_seconds = 90 * 60  # 90 minutes converted to seconds\n",
    "while time_in_seconds >= 80 * 60:  # while time is greater than or equal to 80 minutes converted to seconds\n",
    "    altitude_meters, altitude_kilometers = altitude_in_meters(time_in_seconds)\n",
    "    print(\"For T =\", time_in_seconds // 60, \"minutes:\")\n",
    "    print(\"Altitude in meters:\", altitude_meters)\n",
    "    print(\"Altitude in kilometers:\", altitude_kilometers)\n",
    "    print()  # Add a newline for readability\n",
    "    time_in_seconds -= 60  # decrease time by 1 minute"
   ]
  },
  {
   "cell_type": "markdown",
   "id": "b7242ed1",
   "metadata": {},
   "source": [
    "Yes, there is a minimum orbital period around the earth. It is somewhere between 85 and 84 minutes. We can tell because the height above earth becomes negative between that range.\n",
    "\n",
    "#\n",
    "\n",
    "The following code more precisely shows the minimum orbital period around the eart to the nearest second.\n",
    "\n",
    "#\n"
   ]
  },
  {
   "cell_type": "code",
   "execution_count": 5,
   "id": "5b8299c0",
   "metadata": {
    "scrolled": false
   },
   "outputs": [
    {
     "name": "stdout",
     "output_type": "stream",
     "text": [
      "For T = 85 minutes and 0 seconds:\n",
      "Altitude in meters: 30678.2m\n",
      "Altitude in kilometers: 30.7km\n",
      "\n",
      "For T = 84 minutes and 59 seconds:\n",
      "Altitude in meters: 29841.3m\n",
      "Altitude in kilometers: 29.8km\n",
      "\n",
      "For T = 84 minutes and 58 seconds:\n",
      "Altitude in meters: 29004.4m\n",
      "Altitude in kilometers: 29.0km\n",
      "\n",
      "For T = 84 minutes and 57 seconds:\n",
      "Altitude in meters: 28167.5m\n",
      "Altitude in kilometers: 28.2km\n",
      "\n",
      "For T = 84 minutes and 56 seconds:\n",
      "Altitude in meters: 27330.5m\n",
      "Altitude in kilometers: 27.3km\n",
      "\n",
      "For T = 84 minutes and 55 seconds:\n",
      "Altitude in meters: 26493.4m\n",
      "Altitude in kilometers: 26.5km\n",
      "\n",
      "For T = 84 minutes and 54 seconds:\n",
      "Altitude in meters: 25656.3m\n",
      "Altitude in kilometers: 25.7km\n",
      "\n",
      "For T = 84 minutes and 53 seconds:\n",
      "Altitude in meters: 24819.1m\n",
      "Altitude in kilometers: 24.8km\n",
      "\n",
      "For T = 84 minutes and 52 seconds:\n",
      "Altitude in meters: 23981.9m\n",
      "Altitude in kilometers: 24.0km\n",
      "\n",
      "For T = 84 minutes and 51 seconds:\n",
      "Altitude in meters: 23144.6m\n",
      "Altitude in kilometers: 23.1km\n",
      "\n",
      "For T = 84 minutes and 50 seconds:\n",
      "Altitude in meters: 22307.2m\n",
      "Altitude in kilometers: 22.3km\n",
      "\n",
      "For T = 84 minutes and 49 seconds:\n",
      "Altitude in meters: 21469.8m\n",
      "Altitude in kilometers: 21.5km\n",
      "\n",
      "For T = 84 minutes and 48 seconds:\n",
      "Altitude in meters: 20632.4m\n",
      "Altitude in kilometers: 20.6km\n",
      "\n",
      "For T = 84 minutes and 47 seconds:\n",
      "Altitude in meters: 19794.9m\n",
      "Altitude in kilometers: 19.8km\n",
      "\n",
      "For T = 84 minutes and 46 seconds:\n",
      "Altitude in meters: 18957.3m\n",
      "Altitude in kilometers: 19.0km\n",
      "\n",
      "For T = 84 minutes and 45 seconds:\n",
      "Altitude in meters: 18119.7m\n",
      "Altitude in kilometers: 18.1km\n",
      "\n",
      "For T = 84 minutes and 44 seconds:\n",
      "Altitude in meters: 17282.0m\n",
      "Altitude in kilometers: 17.3km\n",
      "\n",
      "For T = 84 minutes and 43 seconds:\n",
      "Altitude in meters: 16444.3m\n",
      "Altitude in kilometers: 16.4km\n",
      "\n",
      "For T = 84 minutes and 42 seconds:\n",
      "Altitude in meters: 15606.5m\n",
      "Altitude in kilometers: 15.6km\n",
      "\n",
      "For T = 84 minutes and 41 seconds:\n",
      "Altitude in meters: 14768.7m\n",
      "Altitude in kilometers: 14.8km\n",
      "\n",
      "For T = 84 minutes and 40 seconds:\n",
      "Altitude in meters: 13930.8m\n",
      "Altitude in kilometers: 13.9km\n",
      "\n",
      "For T = 84 minutes and 39 seconds:\n",
      "Altitude in meters: 13092.9m\n",
      "Altitude in kilometers: 13.1km\n",
      "\n",
      "For T = 84 minutes and 38 seconds:\n",
      "Altitude in meters: 12254.9m\n",
      "Altitude in kilometers: 12.3km\n",
      "\n",
      "For T = 84 minutes and 37 seconds:\n",
      "Altitude in meters: 11416.8m\n",
      "Altitude in kilometers: 11.4km\n",
      "\n",
      "For T = 84 minutes and 36 seconds:\n",
      "Altitude in meters: 10578.7m\n",
      "Altitude in kilometers: 10.6km\n",
      "\n",
      "For T = 84 minutes and 35 seconds:\n",
      "Altitude in meters: 9740.5m\n",
      "Altitude in kilometers: 9.7km\n",
      "\n",
      "For T = 84 minutes and 34 seconds:\n",
      "Altitude in meters: 8902.3m\n",
      "Altitude in kilometers: 8.9km\n",
      "\n",
      "For T = 84 minutes and 33 seconds:\n",
      "Altitude in meters: 8064.0m\n",
      "Altitude in kilometers: 8.1km\n",
      "\n",
      "For T = 84 minutes and 32 seconds:\n",
      "Altitude in meters: 7225.7m\n",
      "Altitude in kilometers: 7.2km\n",
      "\n",
      "For T = 84 minutes and 31 seconds:\n",
      "Altitude in meters: 6387.3m\n",
      "Altitude in kilometers: 6.4km\n",
      "\n",
      "For T = 84 minutes and 30 seconds:\n",
      "Altitude in meters: 5548.9m\n",
      "Altitude in kilometers: 5.5km\n",
      "\n",
      "For T = 84 minutes and 29 seconds:\n",
      "Altitude in meters: 4710.4m\n",
      "Altitude in kilometers: 4.7km\n",
      "\n",
      "For T = 84 minutes and 28 seconds:\n",
      "Altitude in meters: 3871.8m\n",
      "Altitude in kilometers: 3.9km\n",
      "\n",
      "For T = 84 minutes and 27 seconds:\n",
      "Altitude in meters: 3033.2m\n",
      "Altitude in kilometers: 3.0km\n",
      "\n",
      "For T = 84 minutes and 26 seconds:\n",
      "Altitude in meters: 2194.6m\n",
      "Altitude in kilometers: 2.2km\n",
      "\n",
      "For T = 84 minutes and 25 seconds:\n",
      "Altitude in meters: 1355.9m\n",
      "Altitude in kilometers: 1.4km\n",
      "\n",
      "For T = 84 minutes and 24 seconds:\n",
      "Altitude in meters: 517.1m\n",
      "Altitude in kilometers: 0.5km\n",
      "\n",
      "For T = 84 minutes and 23 seconds:\n",
      "Altitude in meters: -321.7m\n",
      "Altitude in kilometers: -0.3km\n",
      "\n",
      "For T = 84 minutes and 22 seconds:\n",
      "Altitude in meters: -1160.6m\n",
      "Altitude in kilometers: -1.2km\n",
      "\n",
      "For T = 84 minutes and 21 seconds:\n",
      "Altitude in meters: -1999.6m\n",
      "Altitude in kilometers: -2.0km\n",
      "\n",
      "For T = 84 minutes and 20 seconds:\n",
      "Altitude in meters: -2838.6m\n",
      "Altitude in kilometers: -2.8km\n",
      "\n",
      "For T = 84 minutes and 19 seconds:\n",
      "Altitude in meters: -3677.6m\n",
      "Altitude in kilometers: -3.7km\n",
      "\n",
      "For T = 84 minutes and 18 seconds:\n",
      "Altitude in meters: -4516.7m\n",
      "Altitude in kilometers: -4.5km\n",
      "\n",
      "For T = 84 minutes and 17 seconds:\n",
      "Altitude in meters: -5355.9m\n",
      "Altitude in kilometers: -5.4km\n",
      "\n",
      "For T = 84 minutes and 16 seconds:\n",
      "Altitude in meters: -6195.1m\n",
      "Altitude in kilometers: -6.2km\n",
      "\n",
      "For T = 84 minutes and 15 seconds:\n",
      "Altitude in meters: -7034.3m\n",
      "Altitude in kilometers: -7.0km\n",
      "\n",
      "For T = 84 minutes and 14 seconds:\n",
      "Altitude in meters: -7873.7m\n",
      "Altitude in kilometers: -7.9km\n",
      "\n",
      "For T = 84 minutes and 13 seconds:\n",
      "Altitude in meters: -8713.0m\n",
      "Altitude in kilometers: -8.7km\n",
      "\n",
      "For T = 84 minutes and 12 seconds:\n",
      "Altitude in meters: -9552.5m\n",
      "Altitude in kilometers: -9.6km\n",
      "\n",
      "For T = 84 minutes and 11 seconds:\n",
      "Altitude in meters: -10392.0m\n",
      "Altitude in kilometers: -10.4km\n",
      "\n",
      "For T = 84 minutes and 10 seconds:\n",
      "Altitude in meters: -11231.5m\n",
      "Altitude in kilometers: -11.2km\n",
      "\n",
      "For T = 84 minutes and 9 seconds:\n",
      "Altitude in meters: -12071.1m\n",
      "Altitude in kilometers: -12.1km\n",
      "\n",
      "For T = 84 minutes and 8 seconds:\n",
      "Altitude in meters: -12910.8m\n",
      "Altitude in kilometers: -12.9km\n",
      "\n",
      "For T = 84 minutes and 7 seconds:\n",
      "Altitude in meters: -13750.5m\n",
      "Altitude in kilometers: -13.8km\n",
      "\n",
      "For T = 84 minutes and 6 seconds:\n",
      "Altitude in meters: -14590.3m\n",
      "Altitude in kilometers: -14.6km\n",
      "\n",
      "For T = 84 minutes and 5 seconds:\n",
      "Altitude in meters: -15430.1m\n",
      "Altitude in kilometers: -15.4km\n",
      "\n",
      "For T = 84 minutes and 4 seconds:\n",
      "Altitude in meters: -16270.0m\n",
      "Altitude in kilometers: -16.3km\n",
      "\n",
      "For T = 84 minutes and 3 seconds:\n",
      "Altitude in meters: -17109.9m\n",
      "Altitude in kilometers: -17.1km\n",
      "\n",
      "For T = 84 minutes and 2 seconds:\n",
      "Altitude in meters: -17949.9m\n",
      "Altitude in kilometers: -17.9km\n",
      "\n",
      "For T = 84 minutes and 1 seconds:\n",
      "Altitude in meters: -18789.9m\n",
      "Altitude in kilometers: -18.8km\n",
      "\n",
      "For T = 84 minutes and 0 seconds:\n",
      "Altitude in meters: -19630.0m\n",
      "Altitude in kilometers: -19.6km\n",
      "\n"
     ]
    }
   ],
   "source": [
    "# Code calculating h from T = 85 to T = 84, iterating in 1 second intervals.\n",
    "\n",
    "def altitude_in_meters(seconds):\n",
    "    gravitational_constant = 6.67e-11\n",
    "    mass_of_earth = 5.97e24\n",
    "    radius_of_earth = 6371e3\n",
    "    time = float(seconds)\n",
    "    \n",
    "    height_above_earth = (((gravitational_constant * mass_of_earth * time**2) / (4 * 3.14159**2))**(1/3) - radius_of_earth)\n",
    "    \n",
    "    # Converts to kilometers\n",
    "    height_in_kilometers = height_above_earth / 1000\n",
    "    \n",
    "    # Round and format altitude in meters\n",
    "    rounded_altitude_meters = round(height_above_earth, 1)\n",
    "    altitude_with_units_meters = str(rounded_altitude_meters) + \"m\"\n",
    "    \n",
    "    # Round and format altitude in kilometers\n",
    "    rounded_altitude_kilometers = round(height_in_kilometers, 1)\n",
    "    altitude_with_units_kilometers = str(rounded_altitude_kilometers) + \"km\"\n",
    "    \n",
    "    return altitude_with_units_meters, altitude_with_units_kilometers\n",
    "\n",
    "# Calculates the altitude for satellite orbits ranging from 85 minutes to 84 minutes, iterating in 1 second intervals\n",
    "time_in_seconds = 85 * 60  # 85 minutes converted to seconds\n",
    "while time_in_seconds >= 84 * 60:  # while time is greater than or equal to 84 minutes converted to seconds\n",
    "    altitude_meters, altitude_kilometers = altitude_in_meters(time_in_seconds)\n",
    "    print(\"For T =\", time_in_seconds // 60, \"minutes and\", time_in_seconds % 60, \"seconds:\")\n",
    "    print(\"Altitude in meters:\", altitude_meters)\n",
    "    print(\"Altitude in kilometers:\", altitude_kilometers)\n",
    "    print()  # Add a newline for readability\n",
    "    time_in_seconds -= 1  # decrease time by 1 second"
   ]
  },
  {
   "cell_type": "markdown",
   "id": "be1fad6c",
   "metadata": {},
   "source": [
    "From this result we can see that the minimum orbital period around the earth is approximately 84 minutes and 24 seconds."
   ]
  },
  {
   "cell_type": "markdown",
   "id": "ef450057",
   "metadata": {},
   "source": [
    "# 3) Coordinate Conversions:\n",
    "   \n",
    "   #### a)"
   ]
  },
  {
   "cell_type": "code",
   "execution_count": 6,
   "id": "4f37bff2",
   "metadata": {
    "scrolled": false
   },
   "outputs": [
    {
     "name": "stdout",
     "output_type": "stream",
     "text": [
      "Enter the x-coordinate: 7\n",
      "Enter the y-coordinate: 7\n",
      "Polar coordinates:\n",
      "r = 9.899494936611665\n",
      "phi = 45.0 degrees\n",
      "Quadrant: Quadrant I\n"
     ]
    }
   ],
   "source": [
    "# Program that takes x and y as an input and prints out the r and phi (polar angle) of the coordinate.\n",
    "\n",
    "import math\n",
    "\n",
    "def cartesian_to_polar(x, y):\n",
    "    # Calculates r (distance from the origin)\n",
    "    r = math.sqrt(x**2 + y**2)\n",
    "    \n",
    "    # Calculates phi (polar angle)\n",
    "    phi = math.atan2(y, x)\n",
    "    \n",
    "    # Converts phi to degrees\n",
    "    phi_degrees = math.degrees(phi)\n",
    "    \n",
    "    # Adjusts phi to be within [0, 360) degrees\n",
    "    if phi_degrees < 0:\n",
    "        phi_degrees += 360\n",
    "    \n",
    "    # Determines quadrant\n",
    "    if x > 0 and y >= 0:\n",
    "        quadrant = \"Quadrant I\"\n",
    "    elif x < 0 and y >= 0:\n",
    "        quadrant = \"Quadrant II\"\n",
    "    elif x < 0 and y < 0:\n",
    "        quadrant = \"Quadrant III\"\n",
    "    elif x >= 0 and y < 0:\n",
    "        quadrant = \"Quadrant IV\"\n",
    "    elif x == 0 and y != 0:\n",
    "        quadrant = \"On the y-axis\"\n",
    "    elif y == 0 and x != 0:\n",
    "        quadrant = \"On the x-axis\"\n",
    "    else:\n",
    "        quadrant = \"At the origin\"\n",
    "    \n",
    "    return r, phi_degrees, quadrant\n",
    "\n",
    "# Takes user input for x and y coordinates\n",
    "x = float(input(\"Enter the x-coordinate: \"))\n",
    "y = float(input(\"Enter the y-coordinate: \"))\n",
    "\n",
    "# Converts cartesian to polar coordinates\n",
    "r, phi, quadrant = cartesian_to_polar(x, y)\n",
    "\n",
    "# Prints results\n",
    "print(\"Polar coordinates:\")\n",
    "print(\"r =\", r)\n",
    "print(\"phi =\", phi, \"degrees\")\n",
    "print(\"Quadrant:\", quadrant)"
   ]
  },
  {
   "cell_type": "markdown",
   "id": "9506c677",
   "metadata": {},
   "source": [
    "   #### b)"
   ]
  },
  {
   "cell_type": "code",
   "execution_count": 7,
   "id": "9f1f30b3",
   "metadata": {
    "scrolled": false
   },
   "outputs": [
    {
     "name": "stdout",
     "output_type": "stream",
     "text": [
      "Enter the r coordinate: 7\n",
      "Enter the phi coordinate in degrees: 7\n",
      "Cartesian coordinates:\n",
      "x = 6.947823061489254\n",
      "y = 0.8530854038360324\n",
      "Quadrant: Quadrant I\n"
     ]
    }
   ],
   "source": [
    "# Program that takes r and phi and prints out the x and y coordinate\n",
    "\n",
    "import math\n",
    "\n",
    "def polar_to_cartesian(r, phi):\n",
    "    # Converts phi from degrees to radians\n",
    "    phi_rad = math.radians(phi)\n",
    "    \n",
    "    # Calculates x and y coordinates\n",
    "    x = r * math.cos(phi_rad)\n",
    "    y = r * math.sin(phi_rad)\n",
    "    \n",
    "    # Determines quadrant\n",
    "    if x > 0 and y >= 0:\n",
    "        quadrant = \"Quadrant I\"\n",
    "    elif x < 0 and y >= 0:\n",
    "        quadrant = \"Quadrant II\"\n",
    "    elif x < 0 and y < 0:\n",
    "        quadrant = \"Quadrant III\"\n",
    "    elif x >= 0 and y < 0:\n",
    "        quadrant = \"Quadrant IV\"\n",
    "    elif x == 0 and y != 0:\n",
    "        quadrant = \"On the y-axis\"\n",
    "    elif y == 0 and x != 0:\n",
    "        quadrant = \"On the x-axis\"\n",
    "    else:\n",
    "        quadrant = \"At the origin\"\n",
    "    \n",
    "    return x, y, quadrant\n",
    "\n",
    "# Takes user input for r and phi\n",
    "r = float(input(\"Enter the r coordinate: \"))\n",
    "phi = float(input(\"Enter the phi coordinate in degrees: \"))\n",
    "\n",
    "# Converts polar to cartesian coordinates\n",
    "x, y, quadrant = polar_to_cartesian(r, phi)\n",
    "\n",
    "# Prints results\n",
    "print(\"Cartesian coordinates:\")\n",
    "print(\"x =\", x)\n",
    "print(\"y =\", y)\n",
    "print(\"Quadrant:\", quadrant)"
   ]
  },
  {
   "cell_type": "markdown",
   "id": "bac2be9a",
   "metadata": {},
   "source": [
    "# 4 Lorentz Invariants:\n",
    "#### a)"
   ]
  },
  {
   "cell_type": "markdown",
   "id": "a291aa5f",
   "metadata": {},
   "source": [
    "To show that $\\sqrt{s} = mc$, where $m$ is the mass of the particle and $c$ is the speed of light, let's start from the definition of $s$:\n",
    "\n",
    "$s = \\left(\\frac{E}{c}\\right)^2 - (p_x)^2 - (p_y)^2 - (p_z)^2$\n",
    "\n",
    "First, we will express the energy $E$ in terms of the mass $m$ and the momentum $p$ using $E^2 = (pc)^2 + (mc^2)^2$, where $p$ is the magnitude of the momentum:\n",
    "\n",
    "$E^2 = (pc)^2 + (mc^2)^2$\n",
    "\n",
    "$\\frac{E^2}{c^2} = p^2 + m^2c^2$\n",
    "\n",
    "Dividing both sides by $c^2$ to get $\\left(\\frac{E}{c}\\right)^2$:\n",
    "\n",
    "$\\left(\\frac{E}{c}\\right)^2 = \\frac{p^2}{c^2} + m^2$\n",
    "\n",
    "Substituting this expression for $\\left(\\frac{E}{c}\\right)^2$ into the expression for $s$:\n",
    "\n",
    "$s = \\left(\\frac{p^2}{c^2} + m^2\\right) - (p_x)^2 - (p_y)^2 - (p_z)^2$\n",
    "\n",
    "$s = \\frac{p^2}{c^2} + m^2 - (p_x)^2 - (p_y)^2 - (p_z)^2$\n",
    "\n",
    "Note: $p^2 = (p_x)^2 + (p_y)^2 + (p_z)^2$\n",
    "\n",
    "$s = \\frac{(p_x)^2 + (p_y)^2 + (p_z)^2}{c^2} + m^2 - (p_x)^2 - (p_y)^2 - (p_z)^2$\n",
    "\n",
    "$s = \\frac{(p_x)^2 + (p_y)^2 + (p_z)^2}{c^2} - (p_x)^2 - (p_y)^2 - (p_z)^2 + m^2$\n",
    "\n",
    "$(p_x)^2 + (p_y)^2 + (p_z)^2$ cancels out. Leaving us with:\n",
    "\n",
    "$s = m^2$\n",
    "\n",
    "Now, we know that $s$ is the square of the invariant mass, and by definition, the invariant mass $m$ is equal to the rest mass $m$ of the particle. So, we can write:\n",
    "\n",
    "$s = (mc)^2$\n",
    "\n",
    "$\\sqrt{s} = mc$\n",
    "\n",
    "This demonstrates that $\\sqrt{s} = mc$, where $m$ is the mass of the particle and $c$ is the speed of light."
   ]
  },
  {
   "cell_type": "markdown",
   "id": "2b08da3e",
   "metadata": {},
   "source": [
    "#### b)"
   ]
  },
  {
   "cell_type": "code",
   "execution_count": 24,
   "id": "864e5bf6",
   "metadata": {},
   "outputs": [
    {
     "name": "stdout",
     "output_type": "stream",
     "text": [
      "Mass * speed of light of the particle: 7.406521150685762e-06 GeV\n"
     ]
    }
   ],
   "source": [
    "# Function that takes a list [E, px, py, pz] as an input and prints out the mass*(speed of light)\n",
    "# of the particle\n",
    "\n",
    "def calculate_mass_times_c(particle_info):\n",
    "    \n",
    "    # Checks if the input list has exactly 4 elements\n",
    "    if len(particle_info) != 4:\n",
    "        print(\"Invalid input. Input list must have exactly 4 elements.\")\n",
    "        return -1\n",
    "    \n",
    "    # Unpacks the input list into variables\n",
    "    E, px, py, pz = particle_info\n",
    "    \n",
    "    # Performs the calculation\n",
    "    try:\n",
    "        c = 3e8  # Speed of light, c, in meters per second\n",
    "        \n",
    "        m_proton_GeV = 0.938  # Mass of proton in GeV. Not used in this code. Only here for comparison purposes.\n",
    "        mass_times_c = ((E**2 - (px**2 + py**2 + pz**2))**0.5) / c  # Energy-momentum relation\n",
    "        \n",
    "        return mass_times_c\n",
    "    \n",
    "    except TypeError:\n",
    "        # If any of the elements in the input list is not a number, return -1\n",
    "        print(\"Invalid input. All elements in the input list must be numbers.\")\n",
    "        return -1\n",
    "\n",
    "# Tests the function\n",
    "particle_info = [2450, 165, 859, 548]  # Example input with units of eV\n",
    "result = calculate_mass_times_c(particle_info)\n",
    "print(\"Mass * speed of light of the particle:\", result, \"GeV\")\n"
   ]
  },
  {
   "cell_type": "markdown",
   "id": "e48ae229",
   "metadata": {},
   "source": [
    "#### c)"
   ]
  },
  {
   "cell_type": "code",
   "execution_count": 30,
   "id": "ecdc3a2c",
   "metadata": {
    "scrolled": true
   },
   "outputs": [
    {
     "name": "stdout",
     "output_type": "stream",
     "text": [
      "?\n"
     ]
    }
   ],
   "source": [
    "print(\"?\")"
   ]
  },
  {
   "cell_type": "markdown",
   "id": "ac9ec825",
   "metadata": {},
   "source": [
    "#### d)"
   ]
  },
  {
   "cell_type": "code",
   "execution_count": 31,
   "id": "f4065f5e",
   "metadata": {
    "scrolled": false
   },
   "outputs": [
    {
     "name": "stdout",
     "output_type": "stream",
     "text": [
      "?\n"
     ]
    }
   ],
   "source": [
    "print(\"?\")"
   ]
  },
  {
   "cell_type": "markdown",
   "id": "ee047665",
   "metadata": {},
   "source": [
    "# 5) Binding Energy of Isotopes:\n",
    "#### a)"
   ]
  },
  {
   "cell_type": "code",
   "execution_count": 32,
   "id": "47446b4b",
   "metadata": {
    "scrolled": false
   },
   "outputs": [
    {
     "name": "stdout",
     "output_type": "stream",
     "text": [
      "?\n"
     ]
    }
   ],
   "source": [
    "print(\"?\")"
   ]
  },
  {
   "cell_type": "markdown",
   "id": "2ac6b531",
   "metadata": {},
   "source": [
    "# 6) Mystery Data"
   ]
  },
  {
   "cell_type": "markdown",
   "id": "39341afc",
   "metadata": {},
   "source": [
    "#### a)"
   ]
  },
  {
   "cell_type": "code",
   "execution_count": 17,
   "id": "9dfb186e",
   "metadata": {
    "scrolled": false
   },
   "outputs": [
    {
     "name": "stdout",
     "output_type": "stream",
     "text": [
      "[1.00000 0.00000]\n",
      "[0.99619 0.08716]\n",
      "[0.98481 0.17365]\n",
      "[0.96593 0.25882]\n",
      "[0.93969 0.34202]\n",
      "[0.90631 0.42262]\n",
      "[0.86603 0.50000]\n",
      "[0.81915 0.57358]\n",
      "[0.76604 0.64279]\n",
      "[0.70711 0.70711]\n",
      "[0.64279 0.76604]\n",
      "[0.57358 0.81915]\n",
      "[0.50000 0.86603]\n",
      "[0.42262 0.90631]\n",
      "[0.34202 0.93969]\n",
      "[0.25882 0.96593]\n",
      "[0.17365 0.98481]\n",
      "[0.08716 0.99619]\n",
      "[0.00000 1.00000]\n",
      "[-0.08716 0.99619]\n",
      "[-0.17365 0.98481]\n",
      "[-0.25882 0.96593]\n",
      "[-0.34202 0.93969]\n",
      "[-0.42262 0.90631]\n",
      "[-0.50000 0.86603]\n",
      "[-0.57358 0.81915]\n",
      "[-0.64279 0.76604]\n",
      "[-0.70711 0.70711]\n",
      "[-0.76604 0.64279]\n",
      "[-0.81915 0.57358]\n",
      "[-0.86603 0.50000]\n",
      "[-0.90631 0.42262]\n",
      "[-0.93969 0.34202]\n",
      "[-0.96593 0.25882]\n",
      "[-0.98481 0.17365]\n",
      "[-0.99619 0.08716]\n",
      "[-1.00000 0.00000]\n",
      "[-0.99619 -0.08716]\n",
      "[-0.98481 -0.17365]\n",
      "[-0.96593 -0.25882]\n",
      "[-0.93969 -0.34202]\n",
      "[-0.90631 -0.42262]\n",
      "[-0.86603 -0.50000]\n",
      "[-0.81915 -0.57358]\n",
      "[-0.76604 -0.64279]\n",
      "[-0.70711 -0.70711]\n",
      "[-0.64279 -0.76604]\n",
      "[-0.57358 -0.81915]\n",
      "[-0.50000 -0.86603]\n",
      "[-0.42262 -0.90631]\n",
      "[-0.34202 -0.93969]\n",
      "[-0.25882 -0.96593]\n",
      "[-0.17365 -0.98481]\n",
      "[-0.08716 -0.99619]\n",
      "[-0.00000 -1.00000]\n",
      "[0.08716 -0.99619]\n",
      "[0.17365 -0.98481]\n",
      "[0.25882 -0.96593]\n",
      "[0.34202 -0.93969]\n",
      "[0.42262 -0.90631]\n",
      "[0.50000 -0.86603]\n",
      "[0.57358 -0.81915]\n",
      "[0.64279 -0.76604]\n",
      "[0.70711 -0.70711]\n",
      "[0.76604 -0.64279]\n",
      "[0.81915 -0.57358]\n",
      "[0.86603 -0.50000]\n",
      "[0.90631 -0.42262]\n",
      "[0.93969 -0.34202]\n",
      "[0.96593 -0.25882]\n",
      "[0.98481 -0.17365]\n",
      "[0.99619 -0.08716]\n",
      "[1.00000 -0.00000]\n"
     ]
    }
   ],
   "source": [
    "# This code uses a for loop to print out each row of the data array.\n",
    "\n",
    "import numpy as np\n",
    "\n",
    "mystery_data = np.loadtxt('SampleData1.txt')\n",
    "\n",
    "array_shape = np.shape(mystery_data)\n",
    "\n",
    "for i in np.arange(0,array_shape[0]):\n",
    "    print(mystery_data[i])"
   ]
  },
  {
   "cell_type": "markdown",
   "id": "e13b74fd",
   "metadata": {},
   "source": [
    "Looking at the data, I think these are cartesian coordinates where the left column is x and the right column is y.\n",
    "\n",
    "#### b)"
   ]
  },
  {
   "cell_type": "code",
   "execution_count": 29,
   "id": "c49b1013",
   "metadata": {
    "scrolled": false
   },
   "outputs": [
    {
     "ename": "ValueError",
     "evalue": "could not convert string to float: 'Quadrant I'",
     "output_type": "error",
     "traceback": [
      "\u001b[0;31m---------------------------------------------------------------------------\u001b[0m",
      "\u001b[0;31mValueError\u001b[0m                                Traceback (most recent call last)",
      "Cell \u001b[0;32mIn[29], line 9\u001b[0m\n\u001b[1;32m      5\u001b[0m polar_mystery_data \u001b[38;5;241m=\u001b[39m np\u001b[38;5;241m.\u001b[39mempty(array_shape)\n\u001b[1;32m      8\u001b[0m \u001b[38;5;28;01mfor\u001b[39;00m i \u001b[38;5;129;01min\u001b[39;00m np\u001b[38;5;241m.\u001b[39marange(\u001b[38;5;241m0\u001b[39m,array_shape[\u001b[38;5;241m0\u001b[39m]):\n\u001b[0;32m----> 9\u001b[0m     polar_mystery_data[i] \u001b[38;5;241m=\u001b[39m cartesian_to_polar(mystery_data[i,\u001b[38;5;241m0\u001b[39m],mystery_data[i,\u001b[38;5;241m1\u001b[39m])\n\u001b[1;32m     12\u001b[0m \u001b[38;5;28mprint\u001b[39m(polar_mystery_data)\n",
      "\u001b[0;31mValueError\u001b[0m: could not convert string to float: 'Quadrant I'"
     ]
    }
   ],
   "source": [
    "# Code to call the cartesian_to_polar function to convert matrix\n",
    "\n",
    "import numpy as np\n",
    "\n",
    "polar_mystery_data = np.empty(array_shape)\n",
    "\n",
    "\n",
    "for i in np.arange(0,array_shape[0]):\n",
    "    polar_mystery_data[i] = cartesian_to_polar(mystery_data[i,0],mystery_data[i,1])\n",
    "    \n",
    "\n",
    "print(polar_mystery_data)"
   ]
  },
  {
   "cell_type": "markdown",
   "id": "41338343",
   "metadata": {},
   "source": [
    "I don't understand this error"
   ]
  }
 ],
 "metadata": {
  "kernelspec": {
   "display_name": "Python 3 (ipykernel)",
   "language": "python",
   "name": "python3"
  },
  "language_info": {
   "codemirror_mode": {
    "name": "ipython",
    "version": 3
   },
   "file_extension": ".py",
   "mimetype": "text/x-python",
   "name": "python",
   "nbconvert_exporter": "python",
   "pygments_lexer": "ipython3",
   "version": "3.11.5"
  }
 },
 "nbformat": 4,
 "nbformat_minor": 5
}
