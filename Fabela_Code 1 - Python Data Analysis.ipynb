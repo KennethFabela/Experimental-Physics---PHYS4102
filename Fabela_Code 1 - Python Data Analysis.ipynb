{
 "cells": [
  {
   "cell_type": "markdown",
   "id": "f38e3a56",
   "metadata": {},
   "source": [
    "# 1)"
   ]
  },
  {
   "cell_type": "code",
   "execution_count": 7,
   "id": "cdf4945a",
   "metadata": {
    "scrolled": true
   },
   "outputs": [
    {
     "name": "stdout",
     "output_type": "stream",
     "text": [
      "Hello Kenneth Fabela!\n"
     ]
    }
   ],
   "source": [
    "print(\"Hello Kenneth Fabela!\")"
   ]
  },
  {
   "cell_type": "markdown",
   "id": "eebe35dd",
   "metadata": {},
   "source": [
    "# 2)"
   ]
  },
  {
   "cell_type": "markdown",
   "id": "90da93e6",
   "metadata": {},
   "source": [
    "#### a)\n",
    "Starting with Newton's Gravitational Law, we will derive the equation for the altitude, h, of an object orbiting Earth and make sure it obeys this equation:\n",
    "\n",
    "$h=(\\frac{GMT^2}{4\\pi^2})^\\frac{1}{3} - R$ where,\n",
    "\n",
    "$G = 6.67\\times 10^{-11} \\frac{m^3}{kg\\space s^2} $, $M = 5.97\\times 10^{24} kg$, and $R = 6371 km$\n",
    "\n",
    "$M$ is the mass and $R$ is the radius of the earth, and $T$ is the period of the orbit in seconds.\n",
    "\n",
    "#\n",
    "\n",
    "#### Let's begin:\n",
    "\n",
    "Here is Newton's Law of Gravitation:\n",
    "\n",
    "$F_g = \\frac{GMm}{r^2}$\n",
    "\n",
    "According to Newton's second law, the following equation expresses centripital force:\n",
    "\n",
    "$F_c = \\frac{mv^2}{r} = m\\omega^2r$ where,\n",
    "$\\omega = \\frac{v}{r}$\n",
    "\n",
    "#\n",
    "\n",
    "Now we solve for r by setting Newton's Law of Gravitation and $F_c$ equal to each other:\n",
    "\n",
    "$m\\omega^2r = \\frac{GMm}{r^2}$\n",
    "\n",
    "\n",
    "Canceling out the m on both sides:\n",
    "\n",
    "$\\omega^2r = \\frac{GM}{r^2}$\n",
    "\n",
    "Dividing both sides by $\\omega$ while simultaneously multiplying both sides by r^2 we have:\n",
    "\n",
    "$r^3 = (\\frac{GM}{\\omega^2})$\n",
    "\n",
    "Taking the cubed root of both sides:\n",
    "\n",
    "$r = (\\frac{GM}{\\omega^2})^\\frac{1}{3}$\n",
    "\n",
    "Substituting, $\\omega = \\frac{2\\pi}{T}$:\n",
    "\n",
    "$r = (\\frac{GM}{(\\frac{2\\pi}{T})^2})^\\frac{1}{3}$\n",
    "\n",
    "Taking the denominator to the 2nd power:\n",
    "\n",
    "$r = (\\frac{GM}{(\\frac{4\\pi^2}{T^2})})^\\frac{1}{3}$\n",
    "\n",
    "Simplifying:\n",
    "\n",
    "$r = (\\frac{GMT^2}{{4\\pi^2}})^\\frac{1}{3}$\n",
    "\n",
    "Substituting $r = R + h$:\n",
    "\n",
    "$R + h = (\\frac{GMT^2}{{4\\pi^2}})^\\frac{1}{3}$\n",
    "\n",
    "Subtracting both sides by R:\n",
    "\n",
    "$h = (\\frac{GMT^2}{{4\\pi^2}})^\\frac{1}{3} - R$\n",
    "\n",
    "Which concludes the derivation of the altitude, $h$, of an object orbiting Earth."
   ]
  },
  {
   "cell_type": "markdown",
   "id": "ee241360",
   "metadata": {},
   "source": [
    "#### b)"
   ]
  },
  {
   "cell_type": "code",
   "execution_count": 36,
   "id": "890103de",
   "metadata": {},
   "outputs": [
    {
     "name": "stdout",
     "output_type": "stream",
     "text": [
      "Enter a value of T in minutes to obtain the height of an object orbiting the earth92.68\n",
      "410696.1325276494 m\n",
      "410.6961325276494 km\n"
     ]
    }
   ],
   "source": [
    "import numpy as np\n",
    "\n",
    "G = 6.67e-11\n",
    "M = 5.97e24\n",
    "R = 6371e3\n",
    "\n",
    "T = float(input(\"Enter a value of T in minutes to obtain the height of an object orbiting the earth\")) * 60\n",
    "\n",
    "h = ((G*M*T**2)/(4*np.pi**2))**(1/3) - R\n",
    "print(h, \"m\")\n",
    "\n",
    "kilometers = h * 0.001\n",
    "print(kilometers, \"km\")"
   ]
  },
  {
   "cell_type": "markdown",
   "id": "c2bc5dfe",
   "metadata": {},
   "source": [
    "#### c)"
   ]
  },
  {
   "cell_type": "code",
   "execution_count": null,
   "id": "08623234",
   "metadata": {},
   "outputs": [],
   "source": []
  }
 ],
 "metadata": {
  "kernelspec": {
   "display_name": "Python 3 (ipykernel)",
   "language": "python",
   "name": "python3"
  },
  "language_info": {
   "codemirror_mode": {
    "name": "ipython",
    "version": 3
   },
   "file_extension": ".py",
   "mimetype": "text/x-python",
   "name": "python",
   "nbconvert_exporter": "python",
   "pygments_lexer": "ipython3",
   "version": "3.11.5"
  }
 },
 "nbformat": 4,
 "nbformat_minor": 5
}
